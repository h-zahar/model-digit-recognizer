{
 "cells": [
  {
   "cell_type": "code",
   "execution_count": 1,
   "id": "a20e45d8",
   "metadata": {
    "_cell_guid": "b1076dfc-b9ad-4769-8c92-a6c4dae69d19",
    "_uuid": "8f2839f25d086af736a60e9eeb907d3b93b6e0e5",
    "execution": {
     "iopub.execute_input": "2023-06-24T15:42:03.518178Z",
     "iopub.status.busy": "2023-06-24T15:42:03.517815Z",
     "iopub.status.idle": "2023-06-24T15:42:03.533030Z",
     "shell.execute_reply": "2023-06-24T15:42:03.531802Z"
    },
    "papermill": {
     "duration": 0.027999,
     "end_time": "2023-06-24T15:42:03.534965",
     "exception": false,
     "start_time": "2023-06-24T15:42:03.506966",
     "status": "completed"
    },
    "tags": []
   },
   "outputs": [
    {
     "name": "stdout",
     "output_type": "stream",
     "text": [
      "/kaggle/input/digit-recognizer/sample_submission.csv\n",
      "/kaggle/input/digit-recognizer/train.csv\n",
      "/kaggle/input/digit-recognizer/test.csv\n"
     ]
    }
   ],
   "source": [
    "# This Python 3 environment comes with many helpful analytics libraries installed\n",
    "# It is defined by the kaggle/python Docker image: https://github.com/kaggle/docker-python\n",
    "# For example, here's several helpful packages to load\n",
    "\n",
    "import numpy as np # linear algebra\n",
    "import pandas as pd # data processing, CSV file I/O (e.g. pd.read_csv)\n",
    "\n",
    "# Input data files are available in the read-only \"../input/\" directory\n",
    "# For example, running this (by clicking run or pressing Shift+Enter) will list all files under the input directory\n",
    "\n",
    "import os\n",
    "for dirname, _, filenames in os.walk('/kaggle/input'):\n",
    "    for filename in filenames:\n",
    "        print(os.path.join(dirname, filename))\n",
    "\n",
    "# You can write up to 20GB to the current directory (/kaggle/working/) that gets preserved as output when you create a version using \"Save & Run All\" \n",
    "# You can also write temporary files to /kaggle/temp/, but they won't be saved outside of the current session"
   ]
  },
  {
   "cell_type": "markdown",
   "id": "c061a209",
   "metadata": {
    "papermill": {
     "duration": 0.00955,
     "end_time": "2023-06-24T15:42:03.554316",
     "exception": false,
     "start_time": "2023-06-24T15:42:03.544766",
     "status": "completed"
    },
    "tags": []
   },
   "source": [
    "## Loading Train Dataset"
   ]
  },
  {
   "cell_type": "code",
   "execution_count": 2,
   "id": "e21f22e8",
   "metadata": {
    "execution": {
     "iopub.execute_input": "2023-06-24T15:42:03.574521Z",
     "iopub.status.busy": "2023-06-24T15:42:03.573802Z",
     "iopub.status.idle": "2023-06-24T15:42:07.419382Z",
     "shell.execute_reply": "2023-06-24T15:42:07.418472Z"
    },
    "papermill": {
     "duration": 3.857934,
     "end_time": "2023-06-24T15:42:07.421529",
     "exception": false,
     "start_time": "2023-06-24T15:42:03.563595",
     "status": "completed"
    },
    "tags": []
   },
   "outputs": [
    {
     "data": {
      "text/html": [
       "<div>\n",
       "<style scoped>\n",
       "    .dataframe tbody tr th:only-of-type {\n",
       "        vertical-align: middle;\n",
       "    }\n",
       "\n",
       "    .dataframe tbody tr th {\n",
       "        vertical-align: top;\n",
       "    }\n",
       "\n",
       "    .dataframe thead th {\n",
       "        text-align: right;\n",
       "    }\n",
       "</style>\n",
       "<table border=\"1\" class=\"dataframe\">\n",
       "  <thead>\n",
       "    <tr style=\"text-align: right;\">\n",
       "      <th></th>\n",
       "      <th>label</th>\n",
       "      <th>pixel0</th>\n",
       "      <th>pixel1</th>\n",
       "      <th>pixel2</th>\n",
       "      <th>pixel3</th>\n",
       "      <th>pixel4</th>\n",
       "      <th>pixel5</th>\n",
       "      <th>pixel6</th>\n",
       "      <th>pixel7</th>\n",
       "      <th>pixel8</th>\n",
       "      <th>...</th>\n",
       "      <th>pixel774</th>\n",
       "      <th>pixel775</th>\n",
       "      <th>pixel776</th>\n",
       "      <th>pixel777</th>\n",
       "      <th>pixel778</th>\n",
       "      <th>pixel779</th>\n",
       "      <th>pixel780</th>\n",
       "      <th>pixel781</th>\n",
       "      <th>pixel782</th>\n",
       "      <th>pixel783</th>\n",
       "    </tr>\n",
       "  </thead>\n",
       "  <tbody>\n",
       "    <tr>\n",
       "      <th>0</th>\n",
       "      <td>1</td>\n",
       "      <td>0</td>\n",
       "      <td>0</td>\n",
       "      <td>0</td>\n",
       "      <td>0</td>\n",
       "      <td>0</td>\n",
       "      <td>0</td>\n",
       "      <td>0</td>\n",
       "      <td>0</td>\n",
       "      <td>0</td>\n",
       "      <td>...</td>\n",
       "      <td>0</td>\n",
       "      <td>0</td>\n",
       "      <td>0</td>\n",
       "      <td>0</td>\n",
       "      <td>0</td>\n",
       "      <td>0</td>\n",
       "      <td>0</td>\n",
       "      <td>0</td>\n",
       "      <td>0</td>\n",
       "      <td>0</td>\n",
       "    </tr>\n",
       "    <tr>\n",
       "      <th>1</th>\n",
       "      <td>0</td>\n",
       "      <td>0</td>\n",
       "      <td>0</td>\n",
       "      <td>0</td>\n",
       "      <td>0</td>\n",
       "      <td>0</td>\n",
       "      <td>0</td>\n",
       "      <td>0</td>\n",
       "      <td>0</td>\n",
       "      <td>0</td>\n",
       "      <td>...</td>\n",
       "      <td>0</td>\n",
       "      <td>0</td>\n",
       "      <td>0</td>\n",
       "      <td>0</td>\n",
       "      <td>0</td>\n",
       "      <td>0</td>\n",
       "      <td>0</td>\n",
       "      <td>0</td>\n",
       "      <td>0</td>\n",
       "      <td>0</td>\n",
       "    </tr>\n",
       "    <tr>\n",
       "      <th>2</th>\n",
       "      <td>1</td>\n",
       "      <td>0</td>\n",
       "      <td>0</td>\n",
       "      <td>0</td>\n",
       "      <td>0</td>\n",
       "      <td>0</td>\n",
       "      <td>0</td>\n",
       "      <td>0</td>\n",
       "      <td>0</td>\n",
       "      <td>0</td>\n",
       "      <td>...</td>\n",
       "      <td>0</td>\n",
       "      <td>0</td>\n",
       "      <td>0</td>\n",
       "      <td>0</td>\n",
       "      <td>0</td>\n",
       "      <td>0</td>\n",
       "      <td>0</td>\n",
       "      <td>0</td>\n",
       "      <td>0</td>\n",
       "      <td>0</td>\n",
       "    </tr>\n",
       "    <tr>\n",
       "      <th>3</th>\n",
       "      <td>4</td>\n",
       "      <td>0</td>\n",
       "      <td>0</td>\n",
       "      <td>0</td>\n",
       "      <td>0</td>\n",
       "      <td>0</td>\n",
       "      <td>0</td>\n",
       "      <td>0</td>\n",
       "      <td>0</td>\n",
       "      <td>0</td>\n",
       "      <td>...</td>\n",
       "      <td>0</td>\n",
       "      <td>0</td>\n",
       "      <td>0</td>\n",
       "      <td>0</td>\n",
       "      <td>0</td>\n",
       "      <td>0</td>\n",
       "      <td>0</td>\n",
       "      <td>0</td>\n",
       "      <td>0</td>\n",
       "      <td>0</td>\n",
       "    </tr>\n",
       "    <tr>\n",
       "      <th>4</th>\n",
       "      <td>0</td>\n",
       "      <td>0</td>\n",
       "      <td>0</td>\n",
       "      <td>0</td>\n",
       "      <td>0</td>\n",
       "      <td>0</td>\n",
       "      <td>0</td>\n",
       "      <td>0</td>\n",
       "      <td>0</td>\n",
       "      <td>0</td>\n",
       "      <td>...</td>\n",
       "      <td>0</td>\n",
       "      <td>0</td>\n",
       "      <td>0</td>\n",
       "      <td>0</td>\n",
       "      <td>0</td>\n",
       "      <td>0</td>\n",
       "      <td>0</td>\n",
       "      <td>0</td>\n",
       "      <td>0</td>\n",
       "      <td>0</td>\n",
       "    </tr>\n",
       "  </tbody>\n",
       "</table>\n",
       "<p>5 rows × 785 columns</p>\n",
       "</div>"
      ],
      "text/plain": [
       "   label  pixel0  pixel1  pixel2  pixel3  pixel4  pixel5  pixel6  pixel7  \\\n",
       "0      1       0       0       0       0       0       0       0       0   \n",
       "1      0       0       0       0       0       0       0       0       0   \n",
       "2      1       0       0       0       0       0       0       0       0   \n",
       "3      4       0       0       0       0       0       0       0       0   \n",
       "4      0       0       0       0       0       0       0       0       0   \n",
       "\n",
       "   pixel8  ...  pixel774  pixel775  pixel776  pixel777  pixel778  pixel779  \\\n",
       "0       0  ...         0         0         0         0         0         0   \n",
       "1       0  ...         0         0         0         0         0         0   \n",
       "2       0  ...         0         0         0         0         0         0   \n",
       "3       0  ...         0         0         0         0         0         0   \n",
       "4       0  ...         0         0         0         0         0         0   \n",
       "\n",
       "   pixel780  pixel781  pixel782  pixel783  \n",
       "0         0         0         0         0  \n",
       "1         0         0         0         0  \n",
       "2         0         0         0         0  \n",
       "3         0         0         0         0  \n",
       "4         0         0         0         0  \n",
       "\n",
       "[5 rows x 785 columns]"
      ]
     },
     "execution_count": 2,
     "metadata": {},
     "output_type": "execute_result"
    }
   ],
   "source": [
    "df = pd.read_csv('/kaggle/input/digit-recognizer/train.csv')\n",
    "df.head()"
   ]
  },
  {
   "cell_type": "markdown",
   "id": "58e7f9de",
   "metadata": {
    "papermill": {
     "duration": 0.009471,
     "end_time": "2023-06-24T15:42:07.441233",
     "exception": false,
     "start_time": "2023-06-24T15:42:07.431762",
     "status": "completed"
    },
    "tags": []
   },
   "source": [
    "## Checking Shape"
   ]
  },
  {
   "cell_type": "code",
   "execution_count": 3,
   "id": "02e5c0c3",
   "metadata": {
    "execution": {
     "iopub.execute_input": "2023-06-24T15:42:07.461560Z",
     "iopub.status.busy": "2023-06-24T15:42:07.461275Z",
     "iopub.status.idle": "2023-06-24T15:42:07.466658Z",
     "shell.execute_reply": "2023-06-24T15:42:07.465799Z"
    },
    "papermill": {
     "duration": 0.017821,
     "end_time": "2023-06-24T15:42:07.468759",
     "exception": false,
     "start_time": "2023-06-24T15:42:07.450938",
     "status": "completed"
    },
    "tags": []
   },
   "outputs": [
    {
     "data": {
      "text/plain": [
       "(42000, 785)"
      ]
     },
     "execution_count": 3,
     "metadata": {},
     "output_type": "execute_result"
    }
   ],
   "source": [
    "df.shape"
   ]
  },
  {
   "cell_type": "markdown",
   "id": "bb5e8a48",
   "metadata": {
    "papermill": {
     "duration": 0.009582,
     "end_time": "2023-06-24T15:42:07.487955",
     "exception": false,
     "start_time": "2023-06-24T15:42:07.478373",
     "status": "completed"
    },
    "tags": []
   },
   "source": [
    "## Splitting Image Pixels and Labels with Reshaping"
   ]
  },
  {
   "cell_type": "code",
   "execution_count": 4,
   "id": "90c0a561",
   "metadata": {
    "execution": {
     "iopub.execute_input": "2023-06-24T15:42:07.508683Z",
     "iopub.status.busy": "2023-06-24T15:42:07.508423Z",
     "iopub.status.idle": "2023-06-24T15:42:07.605536Z",
     "shell.execute_reply": "2023-06-24T15:42:07.604491Z"
    },
    "papermill": {
     "duration": 0.111596,
     "end_time": "2023-06-24T15:42:07.609279",
     "exception": false,
     "start_time": "2023-06-24T15:42:07.497683",
     "status": "completed"
    },
    "tags": []
   },
   "outputs": [
    {
     "name": "stdout",
     "output_type": "stream",
     "text": [
      "(42000, 28, 28)\n"
     ]
    },
    {
     "data": {
      "text/plain": [
       "(42000,)"
      ]
     },
     "execution_count": 4,
     "metadata": {},
     "output_type": "execute_result"
    }
   ],
   "source": [
    "X_train = df.iloc[:, 1:]\n",
    "y_train = df.iloc[:, :1]\n",
    "\n",
    "X_train = np.array(X_train).reshape(-1, 28, 28)\n",
    "y_train = np.array(y_train).reshape(-1)\n",
    "\n",
    "print(X_train.shape)\n",
    "y_train.shape"
   ]
  },
  {
   "cell_type": "markdown",
   "id": "5751f8d6",
   "metadata": {
    "papermill": {
     "duration": 0.009793,
     "end_time": "2023-06-24T15:42:07.629374",
     "exception": false,
     "start_time": "2023-06-24T15:42:07.619581",
     "status": "completed"
    },
    "tags": []
   },
   "source": [
    "## Plotting Random Images from 28X28 Pixels"
   ]
  },
  {
   "cell_type": "code",
   "execution_count": 5,
   "id": "47cd7bd0",
   "metadata": {
    "execution": {
     "iopub.execute_input": "2023-06-24T15:42:07.650818Z",
     "iopub.status.busy": "2023-06-24T15:42:07.650526Z",
     "iopub.status.idle": "2023-06-24T15:42:08.379931Z",
     "shell.execute_reply": "2023-06-24T15:42:08.379031Z"
    },
    "papermill": {
     "duration": 0.742548,
     "end_time": "2023-06-24T15:42:08.382136",
     "exception": false,
     "start_time": "2023-06-24T15:42:07.639588",
     "status": "completed"
    },
    "tags": []
   },
   "outputs": [
    {
     "data": {
      "image/png": "[encoded data removed]",
      "text/plain": [
       "<Figure size 640x480 with 5 Axes>"
      ]
     },
     "metadata": {},
     "output_type": "display_data"
    }
   ],
   "source": [
    "import matplotlib.pyplot as plt\n",
    "%matplotlib inline\n",
    "for i in range(0, 5):\n",
    "  slot = i + 1\n",
    "  size = '55'\n",
    "  s_plot = int(f'{size}{slot}')\n",
    "  plt.subplot(s_plot)\n",
    "  r_number = np.random.randint(0, len(X_train))\n",
    "  plt.xlabel('Image')\n",
    "  plt.imshow(X_train[r_number], cmap=plt.get_cmap('gray'))"
   ]
  },
  {
   "cell_type": "markdown",
   "id": "e74757da",
   "metadata": {
    "papermill": {
     "duration": 0.010222,
     "end_time": "2023-06-24T15:42:08.403179",
     "exception": false,
     "start_time": "2023-06-24T15:42:08.392957",
     "status": "completed"
    },
    "tags": []
   },
   "source": [
    "## Rescaling Pixel Range of Train Data Between 0, 1"
   ]
  },
  {
   "cell_type": "code",
   "execution_count": 6,
   "id": "db420d1d",
   "metadata": {
    "execution": {
     "iopub.execute_input": "2023-06-24T15:42:08.425388Z",
     "iopub.status.busy": "2023-06-24T15:42:08.424603Z",
     "iopub.status.idle": "2023-06-24T15:42:08.477427Z",
     "shell.execute_reply": "2023-06-24T15:42:08.476227Z"
    },
    "papermill": {
     "duration": 0.066152,
     "end_time": "2023-06-24T15:42:08.479614",
     "exception": false,
     "start_time": "2023-06-24T15:42:08.413462",
     "status": "completed"
    },
    "tags": []
   },
   "outputs": [
    {
     "name": "stdout",
     "output_type": "stream",
     "text": [
      "(42000, 28, 28, 1)\n"
     ]
    }
   ],
   "source": [
    "n_samples = X_train.shape[0]\n",
    "X_rows = X_train[0].shape[0]\n",
    "X_cols = X_train[0].shape[1]\n",
    "X_train = X_train.reshape(n_samples, X_rows, X_cols, 1)\n",
    "\n",
    "X_train = X_train.astype('float32')\n",
    "\n",
    "X_train /= 255\n",
    "\n",
    "print(X_train.shape)\n",
    "# print(X_train[0])"
   ]
  },
  {
   "cell_type": "code",
   "execution_count": 7,
   "id": "176f6a1c",
   "metadata": {
    "execution": {
     "iopub.execute_input": "2023-06-24T15:42:08.502382Z",
     "iopub.status.busy": "2023-06-24T15:42:08.501855Z",
     "iopub.status.idle": "2023-06-24T15:42:17.413878Z",
     "shell.execute_reply": "2023-06-24T15:42:17.412880Z"
    },
    "papermill": {
     "duration": 8.925705,
     "end_time": "2023-06-24T15:42:17.416298",
     "exception": false,
     "start_time": "2023-06-24T15:42:08.490593",
     "status": "completed"
    },
    "tags": []
   },
   "outputs": [
    {
     "name": "stderr",
     "output_type": "stream",
     "text": [
      "/opt/conda/lib/python3.10/site-packages/tensorflow_io/python/ops/__init__.py:98: UserWarning: unable to load libtensorflow_io_plugins.so: unable to open file: libtensorflow_io_plugins.so, from paths: ['/opt/conda/lib/python3.10/site-packages/tensorflow_io/python/ops/libtensorflow_io_plugins.so']\n",
      "caused by: ['/opt/conda/lib/python3.10/site-packages/tensorflow_io/python/ops/libtensorflow_io_plugins.so: undefined symbol: _ZN3tsl6StatusC1EN10tensorflow5error4CodeESt17basic_string_viewIcSt11char_traitsIcEENS_14SourceLocationE']\n",
      "  warnings.warn(f\"unable to load libtensorflow_io_plugins.so: {e}\")\n",
      "/opt/conda/lib/python3.10/site-packages/tensorflow_io/python/ops/__init__.py:104: UserWarning: file system plugins are not loaded: unable to open file: libtensorflow_io.so, from paths: ['/opt/conda/lib/python3.10/site-packages/tensorflow_io/python/ops/libtensorflow_io.so']\n",
      "caused by: ['/opt/conda/lib/python3.10/site-packages/tensorflow_io/python/ops/libtensorflow_io.so: undefined symbol: _ZTVN10tensorflow13GcsFileSystemE']\n",
      "  warnings.warn(f\"file system plugins are not loaded: {e}\")\n"
     ]
    }
   ],
   "source": [
    "from tensorflow import keras\n",
    "from keras.utils import np_utils"
   ]
  },
  {
   "cell_type": "markdown",
   "id": "e3c56b19",
   "metadata": {
    "papermill": {
     "duration": 0.010809,
     "end_time": "2023-06-24T15:42:17.437946",
     "exception": false,
     "start_time": "2023-06-24T15:42:17.427137",
     "status": "completed"
    },
    "tags": []
   },
   "source": [
    "## Hot Encoding Labels"
   ]
  },
  {
   "cell_type": "code",
   "execution_count": 8,
   "id": "793e6c1c",
   "metadata": {
    "execution": {
     "iopub.execute_input": "2023-06-24T15:42:17.460562Z",
     "iopub.status.busy": "2023-06-24T15:42:17.459926Z",
     "iopub.status.idle": "2023-06-24T15:42:17.466875Z",
     "shell.execute_reply": "2023-06-24T15:42:17.465863Z"
    },
    "papermill": {
     "duration": 0.020777,
     "end_time": "2023-06-24T15:42:17.469121",
     "exception": false,
     "start_time": "2023-06-24T15:42:17.448344",
     "status": "completed"
    },
    "tags": []
   },
   "outputs": [],
   "source": [
    "y_train = np_utils.to_categorical(y_train)"
   ]
  },
  {
   "cell_type": "code",
   "execution_count": 9,
   "id": "56cfda33",
   "metadata": {
    "execution": {
     "iopub.execute_input": "2023-06-24T15:42:17.492756Z",
     "iopub.status.busy": "2023-06-24T15:42:17.492492Z",
     "iopub.status.idle": "2023-06-24T15:42:17.498472Z",
     "shell.execute_reply": "2023-06-24T15:42:17.497532Z"
    },
    "papermill": {
     "duration": 0.020333,
     "end_time": "2023-06-24T15:42:17.500930",
     "exception": false,
     "start_time": "2023-06-24T15:42:17.480597",
     "status": "completed"
    },
    "tags": []
   },
   "outputs": [
    {
     "name": "stdout",
     "output_type": "stream",
     "text": [
      "[[0. 1. 0. 0. 0. 0. 0. 0. 0. 0.]\n",
      " [1. 0. 0. 0. 0. 0. 0. 0. 0. 0.]\n",
      " [0. 1. 0. 0. 0. 0. 0. 0. 0. 0.]\n",
      " [0. 0. 0. 0. 1. 0. 0. 0. 0. 0.]\n",
      " [1. 0. 0. 0. 0. 0. 0. 0. 0. 0.]]\n"
     ]
    }
   ],
   "source": [
    "print(y_train[:5])"
   ]
  },
  {
   "cell_type": "markdown",
   "id": "d37a616a",
   "metadata": {
    "papermill": {
     "duration": 0.01097,
     "end_time": "2023-06-24T15:42:17.524812",
     "exception": false,
     "start_time": "2023-06-24T15:42:17.513842",
     "status": "completed"
    },
    "tags": []
   },
   "source": [
    "## Importing Keras"
   ]
  },
  {
   "cell_type": "code",
   "execution_count": 10,
   "id": "dc311897",
   "metadata": {
    "execution": {
     "iopub.execute_input": "2023-06-24T15:42:17.547511Z",
     "iopub.status.busy": "2023-06-24T15:42:17.546739Z",
     "iopub.status.idle": "2023-06-24T15:42:17.552146Z",
     "shell.execute_reply": "2023-06-24T15:42:17.550879Z"
    },
    "papermill": {
     "duration": 0.018943,
     "end_time": "2023-06-24T15:42:17.554261",
     "exception": false,
     "start_time": "2023-06-24T15:42:17.535318",
     "status": "completed"
    },
    "tags": []
   },
   "outputs": [],
   "source": [
    "from keras.models import Sequential\n",
    "from keras.layers import Dense, Dropout, Flatten\n",
    "from keras.layers import Conv2D, MaxPooling2D\n",
    "from keras.utils.vis_utils import plot_model\n",
    "from keras.optimizers import SGD"
   ]
  },
  {
   "cell_type": "markdown",
   "id": "69147eb7",
   "metadata": {
    "papermill": {
     "duration": 0.010227,
     "end_time": "2023-06-24T15:42:17.574992",
     "exception": false,
     "start_time": "2023-06-24T15:42:17.564765",
     "status": "completed"
    },
    "tags": []
   },
   "source": [
    "## Creating CNN (Convolutional Neural Network)"
   ]
  },
  {
   "cell_type": "code",
   "execution_count": 11,
   "id": "8868b6d4",
   "metadata": {
    "execution": {
     "iopub.execute_input": "2023-06-24T15:42:17.598229Z",
     "iopub.status.busy": "2023-06-24T15:42:17.596821Z",
     "iopub.status.idle": "2023-06-24T15:42:21.891257Z",
     "shell.execute_reply": "2023-06-24T15:42:21.890482Z"
    },
    "papermill": {
     "duration": 4.323324,
     "end_time": "2023-06-24T15:42:21.909001",
     "exception": false,
     "start_time": "2023-06-24T15:42:17.585677",
     "status": "completed"
    },
    "tags": []
   },
   "outputs": [
    {
     "name": "stdout",
     "output_type": "stream",
     "text": [
      "Model: \"sequential\"\n",
      "_________________________________________________________________\n",
      " Layer (type)                Output Shape              Param #   \n",
      "=================================================================\n",
      " conv2d (Conv2D)             (None, 26, 26, 32)        320       \n",
      "                                                                 \n",
      " conv2d_1 (Conv2D)           (None, 24, 24, 64)        18496     \n",
      "                                                                 \n",
      " max_pooling2d (MaxPooling2D  (None, 12, 12, 64)       0         \n",
      " )                                                               \n",
      "                                                                 \n",
      " dropout (Dropout)           (None, 12, 12, 64)        0         \n",
      "                                                                 \n",
      " flatten (Flatten)           (None, 9216)              0         \n",
      "                                                                 \n",
      " dense (Dense)               (None, 128)               1179776   \n",
      "                                                                 \n",
      " dropout_1 (Dropout)         (None, 128)               0         \n",
      "                                                                 \n",
      " dense_1 (Dense)             (None, 10)                1290      \n",
      "                                                                 \n",
      "=================================================================\n",
      "Total params: 1,199,882\n",
      "Trainable params: 1,199,882\n",
      "Non-trainable params: 0\n",
      "_________________________________________________________________\n",
      "None\n"
     ]
    }
   ],
   "source": [
    "model = Sequential()\n",
    "\n",
    "model.add(Conv2D(32, kernel_size=(3, 3), activation='relu', input_shape=X_train.shape[1:]))\n",
    "\n",
    "model.add(Conv2D(64, (3, 3), activation='relu'))\n",
    "\n",
    "model.add(MaxPooling2D(pool_size=(2, 2)))\n",
    "\n",
    "model.add(Dropout(0.25))\n",
    "\n",
    "model.add(Flatten())\n",
    "\n",
    "model.add(Dense(128, activation='relu'))\n",
    "\n",
    "model.add(Dropout(0.5))\n",
    "\n",
    "model.add(Dense(y_train.shape[1], activation='softmax'))\n",
    "\n",
    "model.compile(loss='categorical_crossentropy', optimizer=SGD(0.01), metrics=['accuracy'])\n",
    "\n",
    "print(model.summary())"
   ]
  },
  {
   "cell_type": "markdown",
   "id": "3295764d",
   "metadata": {
    "papermill": {
     "duration": 0.012188,
     "end_time": "2023-06-24T15:42:21.933699",
     "exception": false,
     "start_time": "2023-06-24T15:42:21.921511",
     "status": "completed"
    },
    "tags": []
   },
   "source": [
    "## Loading Test Data"
   ]
  },
  {
   "cell_type": "code",
   "execution_count": 12,
   "id": "69194fdd",
   "metadata": {
    "execution": {
     "iopub.execute_input": "2023-06-24T15:42:21.961653Z",
     "iopub.status.busy": "2023-06-24T15:42:21.961330Z",
     "iopub.status.idle": "2023-06-24T15:42:24.266463Z",
     "shell.execute_reply": "2023-06-24T15:42:24.265536Z"
    },
    "papermill": {
     "duration": 2.32209,
     "end_time": "2023-06-24T15:42:24.268526",
     "exception": false,
     "start_time": "2023-06-24T15:42:21.946436",
     "status": "completed"
    },
    "tags": []
   },
   "outputs": [
    {
     "data": {
      "text/plain": [
       "(28000, 28, 28, 1)"
      ]
     },
     "execution_count": 12,
     "metadata": {},
     "output_type": "execute_result"
    }
   ],
   "source": [
    "df_test = pd.read_csv('/kaggle/input/digit-recognizer/test.csv')\n",
    "X_test = np.array(df_test).reshape(-1, 28, 28, 1)\n",
    "X_test.shape"
   ]
  },
  {
   "cell_type": "markdown",
   "id": "34e936a6",
   "metadata": {
    "papermill": {
     "duration": 0.012551,
     "end_time": "2023-06-24T15:42:24.293990",
     "exception": false,
     "start_time": "2023-06-24T15:42:24.281439",
     "status": "completed"
    },
    "tags": []
   },
   "source": [
    "## Converting Pixel Range of Test Data Between 0, 1"
   ]
  },
  {
   "cell_type": "code",
   "execution_count": 13,
   "id": "bc30e20b",
   "metadata": {
    "execution": {
     "iopub.execute_input": "2023-06-24T15:42:24.320513Z",
     "iopub.status.busy": "2023-06-24T15:42:24.319711Z",
     "iopub.status.idle": "2023-06-24T15:42:24.367127Z",
     "shell.execute_reply": "2023-06-24T15:42:24.366076Z"
    },
    "papermill": {
     "duration": 0.063338,
     "end_time": "2023-06-24T15:42:24.369741",
     "exception": false,
     "start_time": "2023-06-24T15:42:24.306403",
     "status": "completed"
    },
    "tags": []
   },
   "outputs": [],
   "source": [
    "X_test = X_test.astype('float32')\n",
    "\n",
    "X_test /= 255"
   ]
  },
  {
   "cell_type": "code",
   "execution_count": 14,
   "id": "f012bd19",
   "metadata": {
    "execution": {
     "iopub.execute_input": "2023-06-24T15:42:24.396724Z",
     "iopub.status.busy": "2023-06-24T15:42:24.396428Z",
     "iopub.status.idle": "2023-06-24T15:42:24.402516Z",
     "shell.execute_reply": "2023-06-24T15:42:24.401462Z"
    },
    "papermill": {
     "duration": 0.022692,
     "end_time": "2023-06-24T15:42:24.405570",
     "exception": false,
     "start_time": "2023-06-24T15:42:24.382878",
     "status": "completed"
    },
    "tags": []
   },
   "outputs": [
    {
     "data": {
      "text/plain": [
       "(28000, 28, 28, 1)"
      ]
     },
     "execution_count": 14,
     "metadata": {},
     "output_type": "execute_result"
    }
   ],
   "source": [
    "X_test.shape"
   ]
  },
  {
   "cell_type": "code",
   "execution_count": 15,
   "id": "bde0e202",
   "metadata": {
    "execution": {
     "iopub.execute_input": "2023-06-24T15:42:24.431889Z",
     "iopub.status.busy": "2023-06-24T15:42:24.431576Z",
     "iopub.status.idle": "2023-06-24T15:42:24.436008Z",
     "shell.execute_reply": "2023-06-24T15:42:24.434816Z"
    },
    "papermill": {
     "duration": 0.020068,
     "end_time": "2023-06-24T15:42:24.438200",
     "exception": false,
     "start_time": "2023-06-24T15:42:24.418132",
     "status": "completed"
    },
    "tags": []
   },
   "outputs": [],
   "source": [
    "# batch_size = 12\n",
    "# epochs = 1\n",
    "\n",
    "# steps = int(X_train.shape[0] / batch_size)\n",
    "\n",
    "# history = model.fit(X_train, y_train, epochs=epochs, steps_per_epoch=steps)"
   ]
  },
  {
   "cell_type": "markdown",
   "id": "45b8c915",
   "metadata": {
    "papermill": {
     "duration": 0.012366,
     "end_time": "2023-06-24T15:42:24.463647",
     "exception": false,
     "start_time": "2023-06-24T15:42:24.451281",
     "status": "completed"
    },
    "tags": []
   },
   "source": [
    "## Training Model"
   ]
  },
  {
   "cell_type": "code",
   "execution_count": 16,
   "id": "22323eca",
   "metadata": {
    "execution": {
     "iopub.execute_input": "2023-06-24T15:42:24.490793Z",
     "iopub.status.busy": "2023-06-24T15:42:24.490536Z",
     "iopub.status.idle": "2023-06-24T15:44:47.327882Z",
     "shell.execute_reply": "2023-06-24T15:44:47.326819Z"
    },
    "papermill": {
     "duration": 142.854443,
     "end_time": "2023-06-24T15:44:47.330660",
     "exception": false,
     "start_time": "2023-06-24T15:42:24.476217",
     "status": "completed"
    },
    "tags": []
   },
   "outputs": [
    {
     "name": "stdout",
     "output_type": "stream",
     "text": [
      "Epoch 1/15\n"
     ]
    },
    {
     "name": "stderr",
     "output_type": "stream",
     "text": [
      "2023-06-24 15:42:25.390943: E tensorflow/core/grappler/optimizers/meta_optimizer.cc:954] layout failed: INVALID_ARGUMENT: Size of values 0 does not match size of permutation 4 @ fanin shape insequential/dropout/dropout/SelectV2-2-TransposeNHWCToNCHW-LayoutOptimizer\n"
     ]
    },
    {
     "name": "stdout",
     "output_type": "stream",
     "text": [
      "2625/2625 [==============================] - 17s 3ms/step - loss: 0.5555 - accuracy: 0.8268\n",
      "Epoch 2/15\n",
      "2625/2625 [==============================] - 8s 3ms/step - loss: 0.2526 - accuracy: 0.9250\n",
      "Epoch 3/15\n",
      "2625/2625 [==============================] - 8s 3ms/step - loss: 0.1684 - accuracy: 0.9496\n",
      "Epoch 4/15\n",
      "2625/2625 [==============================] - 9s 3ms/step - loss: 0.1286 - accuracy: 0.9614\n",
      "Epoch 5/15\n",
      "2625/2625 [==============================] - 9s 3ms/step - loss: 0.1069 - accuracy: 0.9675\n",
      "Epoch 6/15\n",
      "2625/2625 [==============================] - 8s 3ms/step - loss: 0.0956 - accuracy: 0.9714\n",
      "Epoch 7/15\n",
      "2625/2625 [==============================] - 8s 3ms/step - loss: 0.0840 - accuracy: 0.9746\n",
      "Epoch 8/15\n",
      "2625/2625 [==============================] - 9s 3ms/step - loss: 0.0739 - accuracy: 0.9777\n",
      "Epoch 9/15\n",
      "2625/2625 [==============================] - 9s 3ms/step - loss: 0.0681 - accuracy: 0.9788\n",
      "Epoch 10/15\n",
      "2625/2625 [==============================] - 8s 3ms/step - loss: 0.0656 - accuracy: 0.9796\n",
      "Epoch 11/15\n",
      "2625/2625 [==============================] - 8s 3ms/step - loss: 0.0610 - accuracy: 0.9810\n",
      "Epoch 12/15\n",
      "2625/2625 [==============================] - 9s 3ms/step - loss: 0.0545 - accuracy: 0.9826\n",
      "Epoch 13/15\n",
      "2625/2625 [==============================] - 9s 3ms/step - loss: 0.0524 - accuracy: 0.9840\n",
      "Epoch 14/15\n",
      "2625/2625 [==============================] - 9s 3ms/step - loss: 0.0482 - accuracy: 0.9844\n",
      "Epoch 15/15\n",
      "2625/2625 [==============================] - 8s 3ms/step - loss: 0.0454 - accuracy: 0.9851\n"
     ]
    }
   ],
   "source": [
    "batch_size = 16\n",
    "epochs = 15\n",
    "\n",
    "steps = int(X_train.shape[0] / batch_size)\n",
    "\n",
    "history = model.fit(X_train, y_train, epochs=epochs, steps_per_epoch=steps)"
   ]
  },
  {
   "cell_type": "markdown",
   "id": "890a1587",
   "metadata": {
    "papermill": {
     "duration": 0.199853,
     "end_time": "2023-06-24T15:44:47.754652",
     "exception": false,
     "start_time": "2023-06-24T15:44:47.554799",
     "status": "completed"
    },
    "tags": []
   },
   "source": [
    "## Displaying Train Loss and Train Accuracy"
   ]
  },
  {
   "cell_type": "code",
   "execution_count": 17,
   "id": "8e2c984c",
   "metadata": {
    "execution": {
     "iopub.execute_input": "2023-06-24T15:44:48.156426Z",
     "iopub.status.busy": "2023-06-24T15:44:48.156036Z",
     "iopub.status.idle": "2023-06-24T15:44:48.161859Z",
     "shell.execute_reply": "2023-06-24T15:44:48.160962Z"
    },
    "papermill": {
     "duration": 0.209123,
     "end_time": "2023-06-24T15:44:48.164161",
     "exception": false,
     "start_time": "2023-06-24T15:44:47.955038",
     "status": "completed"
    },
    "tags": []
   },
   "outputs": [
    {
     "name": "stdout",
     "output_type": "stream",
     "text": [
      "Train Loss: 6.56%\n",
      "Train Accuracy: 97.96%\n"
     ]
    }
   ],
   "source": [
    "print(f\"Train Loss: {round(round(history.history['loss'][9], 4) * 100, 2)}%\")\n",
    "print(f\"Train Accuracy: {round(round(history.history['accuracy'][9], 4) * 100, 2)}%\")"
   ]
  },
  {
   "cell_type": "markdown",
   "id": "804c21c3",
   "metadata": {
    "papermill": {
     "duration": 0.199497,
     "end_time": "2023-06-24T15:44:48.612760",
     "exception": false,
     "start_time": "2023-06-24T15:44:48.413263",
     "status": "completed"
    },
    "tags": []
   },
   "source": [
    "## Making Predictions with Test Data"
   ]
  },
  {
   "cell_type": "code",
   "execution_count": 18,
   "id": "6f33ac6e",
   "metadata": {
    "execution": {
     "iopub.execute_input": "2023-06-24T15:44:49.018459Z",
     "iopub.status.busy": "2023-06-24T15:44:49.018107Z",
     "iopub.status.idle": "2023-06-24T15:44:51.959766Z",
     "shell.execute_reply": "2023-06-24T15:44:51.958656Z"
    },
    "papermill": {
     "duration": 3.150075,
     "end_time": "2023-06-24T15:44:51.962260",
     "exception": false,
     "start_time": "2023-06-24T15:44:48.812185",
     "status": "completed"
    },
    "tags": []
   },
   "outputs": [
    {
     "name": "stdout",
     "output_type": "stream",
     "text": [
      "875/875 [==============================] - 2s 2ms/step\n"
     ]
    }
   ],
   "source": [
    "prediction = model.predict(X_test)"
   ]
  },
  {
   "cell_type": "code",
   "execution_count": 19,
   "id": "90f4a522",
   "metadata": {
    "execution": {
     "iopub.execute_input": "2023-06-24T15:44:52.381419Z",
     "iopub.status.busy": "2023-06-24T15:44:52.381061Z",
     "iopub.status.idle": "2023-06-24T15:44:52.385558Z",
     "shell.execute_reply": "2023-06-24T15:44:52.384520Z"
    },
    "papermill": {
     "duration": 0.211241,
     "end_time": "2023-06-24T15:44:52.387813",
     "exception": false,
     "start_time": "2023-06-24T15:44:52.176572",
     "status": "completed"
    },
    "tags": []
   },
   "outputs": [],
   "source": [
    "# prediction"
   ]
  },
  {
   "cell_type": "markdown",
   "id": "fbc135fe",
   "metadata": {
    "papermill": {
     "duration": 0.203436,
     "end_time": "2023-06-24T15:44:52.796284",
     "exception": false,
     "start_time": "2023-06-24T15:44:52.592848",
     "status": "completed"
    },
    "tags": []
   },
   "source": [
    "## Matching Random Image with Labels"
   ]
  },
  {
   "cell_type": "code",
   "execution_count": 20,
   "id": "a9ef9305",
   "metadata": {
    "execution": {
     "iopub.execute_input": "2023-06-24T15:44:53.208636Z",
     "iopub.status.busy": "2023-06-24T15:44:53.208277Z",
     "iopub.status.idle": "2023-06-24T15:44:54.463516Z",
     "shell.execute_reply": "2023-06-24T15:44:54.462529Z"
    },
    "papermill": {
     "duration": 1.464666,
     "end_time": "2023-06-24T15:44:54.465679",
     "exception": false,
     "start_time": "2023-06-24T15:44:53.001013",
     "status": "completed"
    },
    "tags": []
   },
   "outputs": [
    {
     "data": {
      "text/plain": [
       "array([16894., 14954., 13421., 18413., 22325.,  8813., 18172., 20016.,\n",
       "       14001., 14088., 10017., 20610.,  9625.,  5208.,  6766., 13165.,\n",
       "       24607., 17821., 17500.,  6887.])"
      ]
     },
     "execution_count": 20,
     "metadata": {},
     "output_type": "execute_result"
    },
    {
     "data": {
      "image/png": "[encoded data removed]",
      "text/plain": [
       "<Figure size 500x500 with 20 Axes>"
      ]
     },
     "metadata": {},
     "output_type": "display_data"
    }
   ],
   "source": [
    "figure, axes = plt.subplots(4, 5, figsize=(5, 5))\n",
    "axes = axes.ravel()\n",
    "indexes = np.zeros(20)\n",
    "\n",
    "for i in range(20):\n",
    "    r_number = np.random.randint(0, X_test.shape[0])\n",
    "    indexes[i] = r_number\n",
    "    axes[i].imshow(X_test[r_number])\n",
    "    axes[i].set_title(np.argmax(prediction[r_number]))\n",
    "    axes[i].axis(\"off\")\n",
    "\n",
    "indexes"
   ]
  },
  {
   "cell_type": "markdown",
   "id": "97b5b70c",
   "metadata": {
    "papermill": {
     "duration": 0.204445,
     "end_time": "2023-06-24T15:44:54.875958",
     "exception": false,
     "start_time": "2023-06-24T15:44:54.671513",
     "status": "completed"
    },
    "tags": []
   },
   "source": [
    "## Plotting Loss/Accuracy Change Per Epochs"
   ]
  },
  {
   "cell_type": "code",
   "execution_count": 21,
   "id": "504dc925",
   "metadata": {
    "execution": {
     "iopub.execute_input": "2023-06-24T15:44:55.290881Z",
     "iopub.status.busy": "2023-06-24T15:44:55.290498Z",
     "iopub.status.idle": "2023-06-24T15:44:55.577611Z",
     "shell.execute_reply": "2023-06-24T15:44:55.576742Z"
    },
    "papermill": {
     "duration": 0.497495,
     "end_time": "2023-06-24T15:44:55.579743",
     "exception": false,
     "start_time": "2023-06-24T15:44:55.082248",
     "status": "completed"
    },
    "tags": []
   },
   "outputs": [
    {
     "data": {
      "image/png": "[encoded data removed]",
      "text/plain": [
       "<Figure size 640x480 with 1 Axes>"
      ]
     },
     "metadata": {},
     "output_type": "display_data"
    }
   ],
   "source": [
    "# print(f\"{history.history}\\n\")\n",
    "\n",
    "loss_values = history.history['loss']\n",
    "acc_values = history.history['accuracy']\n",
    "epochs = range(1, len(loss_values) + 1)\n",
    "\n",
    "loss_line = plt.plot(epochs, loss_values, label=\"Train Loss\")\n",
    "acc_line = plt.plot(epochs, acc_values, label=\"Train Accuracy\")\n",
    "\n",
    "plt.setp(loss_line, linewidth=2.0, marker='4', markersize=10.0)\n",
    "plt.setp(acc_line, linewidth=2.0, marker='4', markersize=10.0)\n",
    "\n",
    "plt.xlabel('Epochs')\n",
    "plt.ylabel('Loss/Accuracy')\n",
    "\n",
    "plt.grid(True)\n",
    "plt.legend()\n",
    "\n",
    "plt.show()"
   ]
  },
  {
   "cell_type": "markdown",
   "id": "9b108271",
   "metadata": {
    "papermill": {
     "duration": 0.209358,
     "end_time": "2023-06-24T15:44:56.037270",
     "exception": false,
     "start_time": "2023-06-24T15:44:55.827912",
     "status": "completed"
    },
    "tags": []
   },
   "source": [
    "## Plotting Model Diagram"
   ]
  },
  {
   "cell_type": "code",
   "execution_count": 22,
   "id": "baa601bb",
   "metadata": {
    "execution": {
     "iopub.execute_input": "2023-06-24T15:44:56.448855Z",
     "iopub.status.busy": "2023-06-24T15:44:56.448486Z",
     "iopub.status.idle": "2023-06-24T15:44:56.652619Z",
     "shell.execute_reply": "2023-06-24T15:44:56.651722Z"
    },
    "papermill": {
     "duration": 0.412268,
     "end_time": "2023-06-24T15:44:56.655262",
     "exception": false,
     "start_time": "2023-06-24T15:44:56.242994",
     "status": "completed"
    },
    "tags": []
   },
   "outputs": [
    {
     "data": {
      "image/png": "[encoded data removed]",
      "text/plain": [
       "<IPython.core.display.Image object>"
      ]
     },
     "execution_count": 22,
     "metadata": {},
     "output_type": "execute_result"
    }
   ],
   "source": [
    "p_model = plot_model(model, show_shapes=True, show_layer_names=True)\n",
    "p_model\n",
    "# plt.figure(figsize=(30, 15))\n",
    "\n",
    "# plt.imshow(p_model)"
   ]
  },
  {
   "cell_type": "markdown",
   "id": "3af130ff",
   "metadata": {
    "papermill": {
     "duration": 0.210256,
     "end_time": "2023-06-24T15:44:57.075412",
     "exception": false,
     "start_time": "2023-06-24T15:44:56.865156",
     "status": "completed"
    },
    "tags": []
   },
   "source": [
    "## Creating Dataframe for Submission"
   ]
  },
  {
   "cell_type": "code",
   "execution_count": 23,
   "id": "ea829cf9",
   "metadata": {
    "execution": {
     "iopub.execute_input": "2023-06-24T15:44:57.503629Z",
     "iopub.status.busy": "2023-06-24T15:44:57.501621Z",
     "iopub.status.idle": "2023-06-24T15:44:57.733541Z",
     "shell.execute_reply": "2023-06-24T15:44:57.732444Z"
    },
    "papermill": {
     "duration": 0.440051,
     "end_time": "2023-06-24T15:44:57.735672",
     "exception": false,
     "start_time": "2023-06-24T15:44:57.295621",
     "status": "completed"
    },
    "tags": []
   },
   "outputs": [],
   "source": [
    "pred_label = [np.argmax(data) for data in prediction]\n",
    "pred_id = range(1, len(pred_label) + 1)\n",
    "\n",
    "pred = pd.DataFrame({\n",
    "    \"ImageId\": pred_id,\n",
    "    \"Label\": pred_label\n",
    "})\n",
    "# pred.head(15)"
   ]
  },
  {
   "cell_type": "markdown",
   "id": "c17c7805",
   "metadata": {
    "papermill": {
     "duration": 0.21213,
     "end_time": "2023-06-24T15:44:58.155056",
     "exception": false,
     "start_time": "2023-06-24T15:44:57.942926",
     "status": "completed"
    },
    "tags": []
   },
   "source": [
    "## Submitting Prediction DataFrame"
   ]
  },
  {
   "cell_type": "code",
   "execution_count": 24,
   "id": "988792d5",
   "metadata": {
    "execution": {
     "iopub.execute_input": "2023-06-24T15:44:58.567692Z",
     "iopub.status.busy": "2023-06-24T15:44:58.567319Z",
     "iopub.status.idle": "2023-06-24T15:44:58.625516Z",
     "shell.execute_reply": "2023-06-24T15:44:58.624618Z"
    },
    "papermill": {
     "duration": 0.26983,
     "end_time": "2023-06-24T15:44:58.627595",
     "exception": false,
     "start_time": "2023-06-24T15:44:58.357765",
     "status": "completed"
    },
    "tags": []
   },
   "outputs": [],
   "source": [
    "pred.to_csv('submission.csv', index=False)"
   ]
  }
 ],
 "metadata": {
  "kernelspec": {
   "display_name": "Python 3",
   "language": "python",
   "name": "python3"
  },
  "language_info": {
   "codemirror_mode": {
    "name": "ipython",
    "version": 3
   },
   "file_extension": ".py",
   "mimetype": "text/x-python",
   "name": "python",
   "nbconvert_exporter": "python",
   "pygments_lexer": "ipython3",
   "version": "3.10.10"
  },
  "papermill": {
   "default_parameters": {},
   "duration": 189.936857,
   "end_time": "2023-06-24T15:45:02.569134",
   "environment_variables": {},
   "exception": null,
   "input_path": "__notebook__.ipynb",
   "output_path": "__notebook__.ipynb",
   "parameters": {},
   "start_time": "2023-06-24T15:41:52.632277",
   "version": "2.4.0"
  }
 },
 "nbformat": 4,
 "nbformat_minor": 5
}
